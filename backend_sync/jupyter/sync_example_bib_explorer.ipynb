{
 "cells": [
  {
   "cell_type": "markdown",
   "metadata": {},
   "source": [
    "# Sync Example Bibliograpy Explorer"
   ]
  },
  {
   "cell_type": "code",
   "execution_count": 1,
   "metadata": {},
   "outputs": [],
   "source": [
    "import grpc\n",
    "from sync_example_bib_app.grpc import sync_example_bib_app_pb2_grpc, sync_example_bib_app_pb2\n"
   ]
  },
  {
   "cell_type": "code",
   "execution_count": 2,
   "metadata": {},
   "outputs": [
    {
     "name": "stdout",
     "output_type": "stream",
     "text": [
      "results {\n",
      "  author_id: \"a336bbda-fac7-4545-9788-0d28de30ad77\"\n",
      "  name_first: \"Victor\"\n",
      "  name_last: \"Hugo\"\n",
      "  birth_date: \"2023-10-07\"\n",
      "}\n",
      "results {\n",
      "  author_id: \"fba315f7-8675-4a7d-b741-c8b6848151eb\"\n",
      "  name_first: \"ben\"\n",
      "  name_last: \"hur\"\n",
      "  birth_date: \"2023-10-07\"\n",
      "}\n",
      "results {\n",
      "  author_id: \"4fe747be-378a-4ce8-b953-ecddb5bbee9b\"\n",
      "  name_first: \"Ma\"\n",
      "  name_last: \"gaa\"\n",
      "  birth_date: \"2023-10-07\"\n",
      "}\n",
      "\n"
     ]
    }
   ],
   "source": [
    "with grpc.insecure_channel(\"localhost:50051\") as channel:\n",
    "        stub = sync_example_bib_app_pb2_grpc.AuthorControllerStub(channel)\n",
    "        \n",
    "        response = stub.List(sync_example_bib_app_pb2.AuthorListRequest())\n",
    "\n",
    "        print(response)\n",
    "        "
   ]
  },
  {
   "cell_type": "code",
   "execution_count": null,
   "metadata": {},
   "outputs": [],
   "source": []
  }
 ],
 "metadata": {
  "kernelspec": {
   "display_name": "sociogrpc",
   "language": "python",
   "name": "python3"
  },
  "language_info": {
   "codemirror_mode": {
    "name": "ipython",
    "version": 3
   },
   "file_extension": ".py",
   "mimetype": "text/x-python",
   "name": "python",
   "nbconvert_exporter": "python",
   "pygments_lexer": "ipython3",
   "version": "3.10.12"
  }
 },
 "nbformat": 4,
 "nbformat_minor": 2
}
