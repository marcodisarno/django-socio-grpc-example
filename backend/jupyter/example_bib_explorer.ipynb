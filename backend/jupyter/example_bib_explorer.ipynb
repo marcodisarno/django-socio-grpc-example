{
 "cells": [
  {
   "cell_type": "markdown",
   "metadata": {},
   "source": [
    "# ASync Example Bibliograpy Explorer"
   ]
  },
  {
   "cell_type": "code",
   "execution_count": null,
   "metadata": {},
   "outputs": [],
   "source": [
    "import grpc\n",
    "import json\n",
    "from example_bib_app.grpc import example_bib_app_pb2_grpc, example_bib_app_pb2\n",
    "\n",
    "from datetime import datetime"
   ]
  },
  {
   "cell_type": "code",
   "execution_count": null,
   "metadata": {},
   "outputs": [],
   "source": [
    "with grpc.insecure_channel(\"localhost:50051\") as channel:\n",
    "        stub = example_bib_app_pb2_grpc.AuthorControllerStub(channel)\n",
    "        \n",
    "        response = stub.List(example_bib_app_pb2.AuthorListRequest())\n",
    "\n",
    "        print(response)\n",
    "        "
   ]
  },
  {
   "cell_type": "code",
   "execution_count": null,
   "metadata": {},
   "outputs": [],
   "source": [
    "# gRPC clients\n",
    "\n",
    "grpc_server_host = 'localhost' # '127.0.0.1' \n",
    "grpc_server_port = 50051\n",
    "\n",
    "sync_channel = grpc.insecure_channel(f'{grpc_server_host}:{grpc_server_port}')\n",
    "author_client = example_bib_app_pb2_grpc.AuthorControllerStub(sync_channel)\n",
    "publisher_client = example_bib_app_pb2_grpc.PublisherControllerStub(sync_channel)\n",
    "\n",
    "book_client = example_bib_app_pb2_grpc.BookControllerStub(sync_channel)"
   ]
  },
  {
   "cell_type": "code",
   "execution_count": null,
   "metadata": {},
   "outputs": [],
   "source": [
    "author_client.List(example_bib_app_pb2.AuthorListRequest())"
   ]
  },
  {
   "cell_type": "markdown",
   "metadata": {},
   "source": [
    "## Creating Authors"
   ]
  },
  {
   "cell_type": "code",
   "execution_count": null,
   "metadata": {},
   "outputs": [],
   "source": [
    "author_response = author_client.Create(example_bib_app_pb2.AuthorRequest(name_first='John', name_last='Doe3', birth_date=datetime.now().strftime('%Y-%m-%d')))\n",
    "author_response"
   ]
  },
  {
   "cell_type": "code",
   "execution_count": null,
   "metadata": {},
   "outputs": [],
   "source": [
    "author_response.author_id"
   ]
  },
  {
   "cell_type": "code",
   "execution_count": null,
   "metadata": {},
   "outputs": [],
   "source": [
    "publisher_response = publisher_client.Create(example_bib_app_pb2.PublisherRequest(name='Hopper', website='https://hopper.com' ))\n",
    "publisher_response"
   ]
  },
  {
   "cell_type": "code",
   "execution_count": null,
   "metadata": {},
   "outputs": [],
   "source": [
    "# creating books\n",
    "\n",
    "for i in range(10):\n",
    "    book_client.Create(example_bib_app_pb2.BookRequest(title=f'book {i}', \n",
    "                                                            authors=[author_response.author_id],\n",
    "                                                            isbn=f'isbn-{i}',\n",
    "                                                            publisher=publisher_response.publisher_id,\n",
    "                                                            publication_date=datetime.now().strftime('%Y-%m-%d')\n",
    "                                                            ))"
   ]
  },
  {
   "cell_type": "markdown",
   "metadata": {},
   "source": [
    "## Using Filters"
   ]
  },
  {
   "cell_type": "code",
   "execution_count": null,
   "metadata": {},
   "outputs": [],
   "source": [
    "filter_as_dict = {\"name_last\": \"Doe\"}\n",
    "metadata = ((\"filters\", (json.dumps(filter_as_dict))),)\n",
    "\n",
    "res = author_client.List(example_bib_app_pb2.AuthorListRequest(), metadata=metadata)\n",
    "\n",
    "res"
   ]
  },
  {
   "cell_type": "code",
   "execution_count": null,
   "metadata": {},
   "outputs": [],
   "source": [
    "str(filter_as_dict)"
   ]
  },
  {
   "cell_type": "code",
   "execution_count": null,
   "metadata": {},
   "outputs": [],
   "source": [
    "json.dumps(filter_as_dict)"
   ]
  },
  {
   "cell_type": "markdown",
   "metadata": {},
   "source": [
    "## Closing channels"
   ]
  },
  {
   "cell_type": "code",
   "execution_count": null,
   "metadata": {},
   "outputs": [],
   "source": [
    "sync_channel.close()"
   ]
  }
 ],
 "metadata": {
  "kernelspec": {
   "display_name": "sociogrpc",
   "language": "python",
   "name": "python3"
  },
  "language_info": {
   "codemirror_mode": {
    "name": "ipython",
    "version": 3
   },
   "file_extension": ".py",
   "mimetype": "text/x-python",
   "name": "python",
   "nbconvert_exporter": "python",
   "pygments_lexer": "ipython3",
   "version": "3.10.12"
  }
 },
 "nbformat": 4,
 "nbformat_minor": 2
}
