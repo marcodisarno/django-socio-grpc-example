{
 "cells": [
  {
   "cell_type": "markdown",
   "metadata": {},
   "source": [
    "# ASync Example Bibliograpy Explorer"
   ]
  },
  {
   "cell_type": "code",
   "execution_count": 1,
   "metadata": {},
   "outputs": [],
   "source": [
    "import grpc\n",
    "import json\n",
    "import asyncio\n",
    "from example_bib_app.grpc import example_bib_app_pb2_grpc, example_bib_app_pb2\n",
    "\n",
    "from datetime import datetime"
   ]
  },
  {
   "cell_type": "code",
   "execution_count": 2,
   "metadata": {},
   "outputs": [],
   "source": [
    "# gRPC clients\n",
    "\n",
    "grpc_server_host = 'localhost' # '127.0.0.1' \n",
    "grpc_server_port = 50051\n",
    "\n",
    "sync_channel = grpc.aio.insecure_channel(f'{grpc_server_host}:{grpc_server_port}')\n",
    "author_client = example_bib_app_pb2_grpc.AuthorControllerStub(sync_channel)\n",
    "publisher_client = example_bib_app_pb2_grpc.PublisherControllerStub(sync_channel)\n",
    "\n",
    "book_client = example_bib_app_pb2_grpc.BookControllerStub(sync_channel)"
   ]
  },
  {
   "cell_type": "markdown",
   "metadata": {},
   "source": [
    "## Creating Authors"
   ]
  },
  {
   "cell_type": "code",
   "execution_count": null,
   "metadata": {},
   "outputs": [],
   "source": [
    "\n",
    "for i in range(10):\n",
    "    author_response = await author_client.Create(example_bib_app_pb2.AuthorRequest(name_first='John', name_last=f'Doe{i}', birth_date=datetime.now().strftime('%Y-%m-%d')))\n",
    "    author_response"
   ]
  },
  {
   "cell_type": "code",
   "execution_count": null,
   "metadata": {},
   "outputs": [],
   "source": [
    "res = await author_client.List(example_bib_app_pb2.AuthorListRequest())\n",
    "res.results\n",
    "for author in res.results:\n",
    "    print(author.name_first, author.name_last)\n"
   ]
  },
  {
   "cell_type": "code",
   "execution_count": null,
   "metadata": {},
   "outputs": [],
   "source": [
    "author_response.author_id"
   ]
  },
  {
   "cell_type": "code",
   "execution_count": null,
   "metadata": {},
   "outputs": [],
   "source": [
    "publisher_response = await publisher_client.Create(example_bib_app_pb2.PublisherRequest(name='Hopper', website='https://hopper.com' ))\n",
    "publisher_response"
   ]
  },
  {
   "cell_type": "code",
   "execution_count": null,
   "metadata": {},
   "outputs": [],
   "source": [
    "# list publishers\n",
    "res = await publisher_client.List(example_bib_app_pb2.PublisherListRequest())\n",
    "res.results"
   ]
  },
  {
   "cell_type": "markdown",
   "metadata": {},
   "source": [
    "## Using Filters"
   ]
  },
  {
   "cell_type": "code",
   "execution_count": null,
   "metadata": {},
   "outputs": [],
   "source": [
    "filter_as_dict = {\"name_last\": \"Doe\"}\n",
    "metadata = ((\"filters\", (json.dumps(filter_as_dict))),)\n",
    "\n",
    "res = await author_client.List(example_bib_app_pb2.AuthorListRequest(), metadata=metadata)\n",
    "res.results\n"
   ]
  },
  {
   "cell_type": "markdown",
   "metadata": {},
   "source": [
    "## Exploring Books"
   ]
  },
  {
   "cell_type": "code",
   "execution_count": null,
   "metadata": {},
   "outputs": [],
   "source": [
    "# creating books\n",
    "for i in range(10):\n",
    "    await book_client.Create(example_bib_app_pb2.BookRequest(title=f'book {i}', \n",
    "                                                            authors=[author_response.author_id],\n",
    "                                                            isbn=f'isbn-{i}',\n",
    "                                                            publisher=publisher_response.publisher_id,\n",
    "                                                            publication_date=datetime.now().strftime('%Y-%m-%d')\n",
    "                                                            ))"
   ]
  },
  {
   "cell_type": "code",
   "execution_count": null,
   "metadata": {},
   "outputs": [],
   "source": [
    "# list books\n",
    "\n",
    "res = await book_client.List(example_bib_app_pb2.BookListRequest())\n",
    "res.results"
   ]
  },
  {
   "cell_type": "code",
   "execution_count": 3,
   "metadata": {},
   "outputs": [
    {
     "ename": "AioRpcError",
     "evalue": "<AioRpcError of RPC that terminated with:\n\tstatus = StatusCode.UNKNOWN\n\tdetails = \"'InternalHttpRequest' object has no attribute 'write'\"\n\tdebug_error_string = \"UNKNOWN:Error received from peer  {grpc_message:\"\\'InternalHttpRequest\\' object has no attribute \\'write\\'\", grpc_status:2, created_time:\"2023-11-23T22:15:10.611716914+01:00\"}\"\n>",
     "output_type": "error",
     "traceback": [
      "\u001b[0;31m---------------------------------------------------------------------------\u001b[0m",
      "\u001b[0;31mAioRpcError\u001b[0m                               Traceback (most recent call last)",
      "\u001b[1;32m/lair/source/projects/science/django/django-socio-grpc-example/backend/jupyter/example_bib_explorer.ipynb Cell 15\u001b[0m line \u001b[0;36m3\n\u001b[1;32m      <a href='vscode-notebook-cell:/lair/source/projects/science/django/django-socio-grpc-example/backend/jupyter/example_bib_explorer.ipynb#X26sZmlsZQ%3D%3D?line=0'>1</a>\u001b[0m \u001b[39m# stream books\u001b[39;00m\n\u001b[0;32m----> <a href='vscode-notebook-cell:/lair/source/projects/science/django/django-socio-grpc-example/backend/jupyter/example_bib_explorer.ipynb#X26sZmlsZQ%3D%3D?line=2'>3</a>\u001b[0m \u001b[39masync\u001b[39;00m \u001b[39mfor\u001b[39;00m book \u001b[39min\u001b[39;00m  book_client\u001b[39m.\u001b[39mStream(example_bib_app_pb2\u001b[39m.\u001b[39mBookStreamRequest()):\n\u001b[1;32m      <a href='vscode-notebook-cell:/lair/source/projects/science/django/django-socio-grpc-example/backend/jupyter/example_bib_explorer.ipynb#X26sZmlsZQ%3D%3D?line=3'>4</a>\u001b[0m     \u001b[39mprint\u001b[39m(book)\n",
      "File \u001b[0;32m~/py3venv/sociogrpc/lib/python3.10/site-packages/grpc/aio/_call.py:356\u001b[0m, in \u001b[0;36m_StreamResponseMixin._fetch_stream_responses\u001b[0;34m(self)\u001b[0m\n\u001b[1;32m    353\u001b[0m     message \u001b[39m=\u001b[39m \u001b[39mawait\u001b[39;00m \u001b[39mself\u001b[39m\u001b[39m.\u001b[39m_read()\n\u001b[1;32m    355\u001b[0m \u001b[39m# If the read operation failed, Core should explain why.\u001b[39;00m\n\u001b[0;32m--> 356\u001b[0m \u001b[39mawait\u001b[39;00m \u001b[39mself\u001b[39m\u001b[39m.\u001b[39m_raise_for_status()\n",
      "File \u001b[0;32m~/py3venv/sociogrpc/lib/python3.10/site-packages/grpc/aio/_call.py:263\u001b[0m, in \u001b[0;36mCall._raise_for_status\u001b[0;34m(self)\u001b[0m\n\u001b[1;32m    261\u001b[0m code \u001b[39m=\u001b[39m \u001b[39mawait\u001b[39;00m \u001b[39mself\u001b[39m\u001b[39m.\u001b[39mcode()\n\u001b[1;32m    262\u001b[0m \u001b[39mif\u001b[39;00m code \u001b[39m!=\u001b[39m grpc\u001b[39m.\u001b[39mStatusCode\u001b[39m.\u001b[39mOK:\n\u001b[0;32m--> 263\u001b[0m     \u001b[39mraise\u001b[39;00m _create_rpc_error(\n\u001b[1;32m    264\u001b[0m         \u001b[39mawait\u001b[39;00m \u001b[39mself\u001b[39m\u001b[39m.\u001b[39minitial_metadata(), \u001b[39mawait\u001b[39;00m \u001b[39mself\u001b[39m\u001b[39m.\u001b[39m_cython_call\u001b[39m.\u001b[39mstatus()\n\u001b[1;32m    265\u001b[0m     )\n",
      "\u001b[0;31mAioRpcError\u001b[0m: <AioRpcError of RPC that terminated with:\n\tstatus = StatusCode.UNKNOWN\n\tdetails = \"'InternalHttpRequest' object has no attribute 'write'\"\n\tdebug_error_string = \"UNKNOWN:Error received from peer  {grpc_message:\"\\'InternalHttpRequest\\' object has no attribute \\'write\\'\", grpc_status:2, created_time:\"2023-11-23T22:15:10.611716914+01:00\"}\"\n>"
     ]
    }
   ],
   "source": [
    "# stream books\n",
    "\n",
    "async for book in  book_client.Stream(example_bib_app_pb2.BookStreamRequest()):\n",
    "    print(book)\n"
   ]
  },
  {
   "cell_type": "code",
   "execution_count": 5,
   "metadata": {},
   "outputs": [
    {
     "ename": "AttributeError",
     "evalue": "module 'example_bib_app.grpc.example_bib_app_pb2' has no attribute 'BookStreamBooksRequest'",
     "output_type": "error",
     "traceback": [
      "\u001b[0;31m---------------------------------------------------------------------------\u001b[0m",
      "\u001b[0;31mAttributeError\u001b[0m                            Traceback (most recent call last)",
      "\u001b[1;32m/lair/source/projects/science/django/django-socio-grpc-example/backend/jupyter/example_bib_explorer.ipynb Cell 16\u001b[0m line \u001b[0;36m2\n\u001b[1;32m      <a href='vscode-notebook-cell:/lair/source/projects/science/django/django-socio-grpc-example/backend/jupyter/example_bib_explorer.ipynb#X30sZmlsZQ%3D%3D?line=0'>1</a>\u001b[0m \u001b[39m# stream books\u001b[39;00m\n\u001b[0;32m----> <a href='vscode-notebook-cell:/lair/source/projects/science/django/django-socio-grpc-example/backend/jupyter/example_bib_explorer.ipynb#X30sZmlsZQ%3D%3D?line=1'>2</a>\u001b[0m \u001b[39masync\u001b[39;00m \u001b[39mfor\u001b[39;00m book \u001b[39min\u001b[39;00m book_client\u001b[39m.\u001b[39mStreamBooksByIDList(example_bib_app_pb2\u001b[39m.\u001b[39mBookStreamBooksRequest(book_ids \u001b[39m=\u001b[39m [\u001b[39m\"\u001b[39m\u001b[39md507ea75-a416-43c2-9de5-55a7e732b531\u001b[39m\u001b[39m\"\u001b[39m, \u001b[39m\"\u001b[39m\u001b[39m0f82740f-f600-40a2-b7af-eb0af42ab975\u001b[39m\u001b[39m\"\u001b[39m])):\n\u001b[1;32m      <a href='vscode-notebook-cell:/lair/source/projects/science/django/django-socio-grpc-example/backend/jupyter/example_bib_explorer.ipynb#X30sZmlsZQ%3D%3D?line=2'>3</a>\u001b[0m     \u001b[39mprint\u001b[39m(book)\n",
      "\u001b[0;31mAttributeError\u001b[0m: module 'example_bib_app.grpc.example_bib_app_pb2' has no attribute 'BookStreamBooksRequest'"
     ]
    }
   ],
   "source": [
    "# stream books\n",
    "async for book in book_client.StreamBooksByIDList(example_bib_app_pb2.BookStreamBooksByIDListRequest(book_ids = [\"d507ea75-a416-43c2-9de5-55a7e732b531\", \"0f82740f-f600-40a2-b7af-eb0af42ab975\"])):\n",
    "    print(book)"
   ]
  },
  {
   "cell_type": "markdown",
   "metadata": {},
   "source": [
    "## Closing channels"
   ]
  },
  {
   "cell_type": "code",
   "execution_count": null,
   "metadata": {},
   "outputs": [],
   "source": [
    "sync_channel.close()"
   ]
  }
 ],
 "metadata": {
  "kernelspec": {
   "display_name": "sociogrpc",
   "language": "python",
   "name": "python3"
  },
  "language_info": {
   "codemirror_mode": {
    "name": "ipython",
    "version": 3
   },
   "file_extension": ".py",
   "mimetype": "text/x-python",
   "name": "python",
   "nbconvert_exporter": "python",
   "pygments_lexer": "ipython3",
   "version": "3.10.12"
  }
 },
 "nbformat": 4,
 "nbformat_minor": 2
}
