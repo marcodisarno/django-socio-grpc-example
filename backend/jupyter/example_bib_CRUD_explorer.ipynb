{
 "cells": [
  {
   "cell_type": "markdown",
   "metadata": {},
   "source": [
    "# Example bibliography CRUD explorer"
   ]
  },
  {
   "cell_type": "code",
   "execution_count": null,
   "metadata": {},
   "outputs": [],
   "source": [
    "import grpc\n",
    "import json\n",
    "from example_bib_app.grpc import example_bib_app_pb2_grpc, example_bib_app_pb2\n",
    "\n",
    "from datetime import datetime"
   ]
  },
  {
   "cell_type": "code",
   "execution_count": null,
   "metadata": {},
   "outputs": [],
   "source": [
    "# gRPC client settings\n",
    "\n",
    "grpc_server_host = 'localhost' # '127.0.0.1' \n",
    "grpc_server_port = 50051"
   ]
  },
  {
   "cell_type": "markdown",
   "metadata": {},
   "source": [
    "## CRUD = Create, Read, Update, Delete operations"
   ]
  },
  {
   "cell_type": "code",
   "execution_count": null,
   "metadata": {},
   "outputs": [],
   "source": [
    "# creating a new author client\n",
    "\n",
    "sync_channel = grpc.insecure_channel(f'{grpc_server_host}:{grpc_server_port}')\n",
    "author_client = example_bib_app_pb2_grpc.AuthorControllerStub(sync_channel)"
   ]
  },
  {
   "cell_type": "code",
   "execution_count": null,
   "metadata": {},
   "outputs": [],
   "source": [
    "res = author_client.Create(example_bib_app_pb2.AuthorRequest(name_first='John', name_last=\"Doe\", birth_date=\"2000-02-13\")) #datetime(1980, 1, 1).isoformat()))\n",
    "print(\"Create :\\n\", res)\n",
    "\n",
    "res = author_client.Retrieve(example_bib_app_pb2.AuthorRequest(author_id=res.author_id))\n",
    "print(\"Retrieve :\\n\", res)\n",
    "\n",
    "res = author_client.Update(example_bib_app_pb2.AuthorRequest(author_id=res.author_id, name_first='John', name_last=\"Doll\", birth_date=\"2222-02-22\"))\n",
    "\n",
    "print(\"Update :\\n\", res)\n",
    "\n",
    "res = author_client.Destroy(example_bib_app_pb2.AuthorRequest(author_id=res.author_id))\n",
    "print(\"Destroy :\\n\", res)"
   ]
  },
  {
   "cell_type": "code",
   "execution_count": null,
   "metadata": {},
   "outputs": [],
   "source": [
    "# creating a new publisher client\n",
    "publisher_client = example_bib_app_pb2_grpc.PublisherControllerStub(sync_channel)"
   ]
  },
  {
   "cell_type": "code",
   "execution_count": null,
   "metadata": {},
   "outputs": [],
   "source": [
    "# publisher CRUD\n",
    "res = publisher_client.Create(example_bib_app_pb2.PublisherRequest(name=\"John Doe\"))\n",
    "print(\"Create :\\n\", res)\n",
    "\n",
    "res = publisher_client.Retrieve(example_bib_app_pb2.PublisherRequest(publisher_id=res.publisher_id))\n",
    "print(\"Retrieve :\\n\", res)\n",
    "\n",
    "res = publisher_client.Update(example_bib_app_pb2.PublisherRequest(publisher_id=res.publisher_id, name=\"John Doll\"))\n",
    "\n",
    "print(\"Update :\\n\", res)\n",
    "\n",
    "res = publisher_client.Destroy(example_bib_app_pb2.PublisherRequest(publisher_id=res.publisher_id))\n",
    "print(\"Destroy :\\n\", res)\n"
   ]
  },
  {
   "cell_type": "code",
   "execution_count": null,
   "metadata": {},
   "outputs": [],
   "source": []
  }
 ],
 "metadata": {
  "kernelspec": {
   "display_name": "sociogrpc",
   "language": "python",
   "name": "python3"
  },
  "language_info": {
   "codemirror_mode": {
    "name": "ipython",
    "version": 3
   },
   "file_extension": ".py",
   "mimetype": "text/x-python",
   "name": "python",
   "nbconvert_exporter": "python",
   "pygments_lexer": "ipython3",
   "version": "3.10.12"
  }
 },
 "nbformat": 4,
 "nbformat_minor": 4
}
