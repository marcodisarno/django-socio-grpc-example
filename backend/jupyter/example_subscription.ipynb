{
 "cells": [
  {
   "cell_type": "code",
   "execution_count": null,
   "id": "30d321cd-d79e-4665-aab2-d40ce5434b30",
   "metadata": {},
   "outputs": [],
   "source": [
    "# Example subscription call"
   ]
  },
  {
   "cell_type": "code",
   "execution_count": 2,
   "id": "75e3322f-7090-421c-b654-72d6b69e925c",
   "metadata": {},
   "outputs": [],
   "source": [
    "import grpc\n",
    "import json\n",
    "from example_bib_app.grpc import example_bib_app_pb2_grpc, example_bib_app_pb2\n",
    "\n",
    "from datetime import datetime"
   ]
  },
  {
   "cell_type": "code",
   "execution_count": 3,
   "id": "9f462c3a-aea4-4f74-9ec6-82892e7dfcc1",
   "metadata": {},
   "outputs": [],
   "source": [
    "# gRPC client settings\n",
    "\n",
    "grpc_server_host = 'localhost' # '127.0.0.1' \n",
    "grpc_server_port = 50051"
   ]
  },
  {
   "cell_type": "code",
   "execution_count": 4,
   "id": "a2db2cf1-46d6-4a4e-b55b-6a91651f0755",
   "metadata": {},
   "outputs": [],
   "source": [
    "# creating a new author client\n",
    "\n",
    "sync_channel = grpc.insecure_channel(f'{grpc_server_host}:{grpc_server_port}')\n",
    "author_client = example_bib_app_pb2_grpc.AuthorControllerStub(sync_channel)"
   ]
  },
  {
   "cell_type": "code",
   "execution_count": null,
   "id": "ad00ab05-e577-4c54-b7d3-04eadc0c06eb",
   "metadata": {},
   "outputs": [
    {
     "name": "stdout",
     "output_type": "stream",
     "text": [
      "Got Event :\n",
      " author_id: \"67885846-e7ba-421e-aae6-c88e6afb8000\"\n",
      "name_first: \"John\"\n",
      "name_last: \"Doe\"\n",
      "birth_date: \"2000-02-13\"\n",
      "\n",
      "Got Event :\n",
      " author_id: \"67885846-e7ba-421e-aae6-c88e6afb8000\"\n",
      "name_first: \"John\"\n",
      "name_last: \"Doll\"\n",
      "birth_date: \"2222-02-22\"\n",
      "\n"
     ]
    }
   ],
   "source": [
    "# subscribe for an event. This usually has to go into a seperate thread, otherwise it'll block all client calls to the stub.\n",
    "\n",
    "# use another kernel to create an Author to receive an update here.\n",
    "\n",
    "# restart the kernel if you want to unsubscribe.\n",
    "\n",
    "res = author_client.Subscribe(example_bib_app_pb2.SubscriptionRequest(signal='post_save'))\n",
    "\n",
    "for post_save_event in res:\n",
    "    print(\"Got Event :\\n\", post_save_event)\n"
   ]
  },
  {
   "cell_type": "code",
   "execution_count": null,
   "id": "5f0d7c24-1627-4fba-9399-b0b802dce1c0",
   "metadata": {},
   "outputs": [],
   "source": []
  }
 ],
 "metadata": {
  "kernelspec": {
   "display_name": "Python 3 (ipykernel)",
   "language": "python",
   "name": "python3"
  },
  "language_info": {
   "codemirror_mode": {
    "name": "ipython",
    "version": 3
   },
   "file_extension": ".py",
   "mimetype": "text/x-python",
   "name": "python",
   "nbconvert_exporter": "python",
   "pygments_lexer": "ipython3",
   "version": "3.9.11"
  }
 },
 "nbformat": 4,
 "nbformat_minor": 5
}
